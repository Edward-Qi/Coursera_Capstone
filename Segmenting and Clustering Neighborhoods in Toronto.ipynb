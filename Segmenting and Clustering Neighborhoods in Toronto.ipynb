{
    "cells": [
        {
            "metadata": {},
            "cell_type": "markdown",
            "source": "# Part 1"
        },
        {
            "metadata": {},
            "cell_type": "code",
            "source": "import pandas as pd\nimport numpy as np\nimport requests",
            "execution_count": 1,
            "outputs": []
        },
        {
            "metadata": {},
            "cell_type": "markdown",
            "source": "Postal Codes are at https://en.wikipedia.org/wiki/List_of_postal_codes_of_Canada:_M,  \\\nconvert data into DataFrame and remove not assigned"
        },
        {
            "metadata": {},
            "cell_type": "code",
            "source": "url = 'https://en.wikipedia.org/wiki/List_of_postal_codes_of_Canada:_M'\nurl_page = requests.get(url)\nurl_page",
            "execution_count": 2,
            "outputs": [
                {
                    "output_type": "execute_result",
                    "execution_count": 2,
                    "data": {
                        "text/plain": "<Response [200]>"
                    },
                    "metadata": {}
                }
            ]
        },
        {
            "metadata": {},
            "cell_type": "code",
            "source": "url_data = pd.read_html(url_page.content)\n# url_data\n",
            "execution_count": 3,
            "outputs": []
        },
        {
            "metadata": {},
            "cell_type": "code",
            "source": "len(url_data),type(url_data)",
            "execution_count": 4,
            "outputs": [
                {
                    "output_type": "execute_result",
                    "execution_count": 4,
                    "data": {
                        "text/plain": "(3, list)"
                    },
                    "metadata": {}
                }
            ]
        },
        {
            "metadata": {},
            "cell_type": "code",
            "source": "wiki_data = url_data[0]\n# wiki_data",
            "execution_count": 6,
            "outputs": []
        },
        {
            "metadata": {},
            "cell_type": "code",
            "source": "PostalCode = []\nBorough = []\nNeighborhood = []",
            "execution_count": 7,
            "outputs": []
        },
        {
            "metadata": {},
            "cell_type": "code",
            "source": "for column in wiki_data:\n    for row in range(9):\n        data = wiki_data[row][column]\n        parse = data.split('(',1)\n        PostalCode.append(data[0:3])\n        Borough.append(parse[0][3:])\n        if '(' in data:\n            Neighborhood.append(parse[1].replace(')',\"\").replace('/',','))\n        else:\n            Neighborhood.append('None')",
            "execution_count": 8,
            "outputs": []
        },
        {
            "metadata": {},
            "cell_type": "code",
            "source": "data = {\n    'PostalCode':PostalCode,\n    'Borough':Borough,\n    'Neighborhood':Neighborhood\n}",
            "execution_count": 9,
            "outputs": []
        },
        {
            "metadata": {},
            "cell_type": "code",
            "source": "df = pd.DataFrame(data = data)\ndf",
            "execution_count": 10,
            "outputs": [
                {
                    "output_type": "execute_result",
                    "execution_count": 10,
                    "data": {
                        "text/plain": "   PostalCode           Borough                                Neighborhood\n0         M1A      Not assigned                                        None\n1         M2A      Not assigned                                        None\n2         M3A        North York                                   Parkwoods\n3         M4A        North York                            Victoria Village\n4         M5A  Downtown Toronto                  Regent Park , Harbourfront\n..        ...               ...                                         ...\n76        M5L  Downtown Toronto             Commerce Court , Victoria Hotel\n77        M6L        North York  North Park , Maple Leaf Park , Upwood Park\n78        M7L      Not assigned                                        None\n79        M8L      Not assigned                                        None\n80        M9L        North York                               Humber Summit\n\n[81 rows x 3 columns]",
                        "text/html": "<div>\n<style scoped>\n    .dataframe tbody tr th:only-of-type {\n        vertical-align: middle;\n    }\n\n    .dataframe tbody tr th {\n        vertical-align: top;\n    }\n\n    .dataframe thead th {\n        text-align: right;\n    }\n</style>\n<table border=\"1\" class=\"dataframe\">\n  <thead>\n    <tr style=\"text-align: right;\">\n      <th></th>\n      <th>PostalCode</th>\n      <th>Borough</th>\n      <th>Neighborhood</th>\n    </tr>\n  </thead>\n  <tbody>\n    <tr>\n      <th>0</th>\n      <td>M1A</td>\n      <td>Not assigned</td>\n      <td>None</td>\n    </tr>\n    <tr>\n      <th>1</th>\n      <td>M2A</td>\n      <td>Not assigned</td>\n      <td>None</td>\n    </tr>\n    <tr>\n      <th>2</th>\n      <td>M3A</td>\n      <td>North York</td>\n      <td>Parkwoods</td>\n    </tr>\n    <tr>\n      <th>3</th>\n      <td>M4A</td>\n      <td>North York</td>\n      <td>Victoria Village</td>\n    </tr>\n    <tr>\n      <th>4</th>\n      <td>M5A</td>\n      <td>Downtown Toronto</td>\n      <td>Regent Park , Harbourfront</td>\n    </tr>\n    <tr>\n      <th>...</th>\n      <td>...</td>\n      <td>...</td>\n      <td>...</td>\n    </tr>\n    <tr>\n      <th>76</th>\n      <td>M5L</td>\n      <td>Downtown Toronto</td>\n      <td>Commerce Court , Victoria Hotel</td>\n    </tr>\n    <tr>\n      <th>77</th>\n      <td>M6L</td>\n      <td>North York</td>\n      <td>North Park , Maple Leaf Park , Upwood Park</td>\n    </tr>\n    <tr>\n      <th>78</th>\n      <td>M7L</td>\n      <td>Not assigned</td>\n      <td>None</td>\n    </tr>\n    <tr>\n      <th>79</th>\n      <td>M8L</td>\n      <td>Not assigned</td>\n      <td>None</td>\n    </tr>\n    <tr>\n      <th>80</th>\n      <td>M9L</td>\n      <td>North York</td>\n      <td>Humber Summit</td>\n    </tr>\n  </tbody>\n</table>\n<p>81 rows \u00d7 3 columns</p>\n</div>"
                    },
                    "metadata": {}
                }
            ]
        },
        {
            "metadata": {},
            "cell_type": "code",
            "source": "df = df[df.Borough != 'Not assigned']\ndf.reset_index(inplace=True)",
            "execution_count": 11,
            "outputs": []
        },
        {
            "metadata": {},
            "cell_type": "code",
            "source": "del df['index']",
            "execution_count": 12,
            "outputs": []
        },
        {
            "metadata": {},
            "cell_type": "code",
            "source": "df",
            "execution_count": 13,
            "outputs": [
                {
                    "output_type": "execute_result",
                    "execution_count": 13,
                    "data": {
                        "text/plain": "   PostalCode                Borough  \\\n0         M3A             North York   \n1         M4A             North York   \n2         M5A       Downtown Toronto   \n3         M6A             North York   \n4         M7A           Queen's Park   \n5         M9A              Etobicoke   \n6         M1B            Scarborough   \n7         M3B             North York   \n8         M4B              East York   \n9         M5B       Downtown Toronto   \n10        M6B             North York   \n11        M9B              Etobicoke   \n12        M1C            Scarborough   \n13        M3C             North York   \n14        M4C              East York   \n15        M5C       Downtown Toronto   \n16        M6C                   York   \n17        M9C              Etobicoke   \n18        M1E            Scarborough   \n19        M4E           East Toronto   \n20        M5E       Downtown Toronto   \n21        M6E                   York   \n22        M1G            Scarborough   \n23        M4G              East York   \n24        M5G       Downtown Toronto   \n25        M6G       Downtown Toronto   \n26        M1H            Scarborough   \n27        M2H             North York   \n28        M3H             North York   \n29        M4H              East York   \n30        M5H       Downtown Toronto   \n31        M6H           West Toronto   \n32        M1J            Scarborough   \n33        M2J             North York   \n34        M3J             North York   \n35        M4J  East YorkEast Toronto   \n36        M5J       Downtown Toronto   \n37        M6J           West Toronto   \n38        M1K            Scarborough   \n39        M2K             North York   \n40        M3K             North York   \n41        M4K           East Toronto   \n42        M5K       Downtown Toronto   \n43        M6K           West Toronto   \n44        M1L            Scarborough   \n45        M2L             North York   \n46        M3L             North York   \n47        M4L           East Toronto   \n48        M5L       Downtown Toronto   \n49        M6L             North York   \n50        M9L             North York   \n\n                                         Neighborhood  \n0                                           Parkwoods  \n1                                    Victoria Village  \n2                          Regent Park , Harbourfront  \n3                   Lawrence Manor , Lawrence Heights  \n4                       Ontario Provincial Government  \n5                                    Islington Avenue  \n6                                     Malvern , Rouge  \n7                                      Don MillsNorth  \n8                    Parkview Hill , Woodbine Gardens  \n9                            Garden District, Ryerson  \n10                                          Glencairn  \n11  West Deane Park , Princess Gardens , Martin Gr...  \n12           Rouge Hill , Port Union , Highland Creek  \n13                     Don MillsSouth(Flemingdon Park  \n14                                   Woodbine Heights  \n15                                     St. James Town  \n16                                 Humewood-Cedarvale  \n17  Eringate , Bloordale Gardens , Old Burnhamthor...  \n18                Guildwood , Morningside , West Hill  \n19                                        The Beaches  \n20                                        Berczy Park  \n21                                Caledonia-Fairbanks  \n22                                             Woburn  \n23                                            Leaside  \n24                                 Central Bay Street  \n25                                           Christie  \n26                                          Cedarbrae  \n27                                  Hillcrest Village  \n28  Bathurst Manor , Wilson Heights , Downsview North  \n29                                   Thorncliffe Park  \n30                         Richmond , Adelaide , King  \n31                      Dufferin , Dovercourt Village  \n32                                Scarborough Village  \n33                     Fairview , Henry Farm , Oriole  \n34                   Northwood Park , York University  \n35                                  The Danforth East  \n36  Harbourfront East , Union Station , Toronto Is...  \n37                          Little Portugal , Trinity  \n38      Kennedy Park , Ionview , East Birchmount Park  \n39                                    Bayview Village  \n40                         DownsviewEast (CFB Toronto  \n41                      The Danforth West , Riverdale  \n42          Toronto Dominion Centre , Design Exchange  \n43     Brockton , Parkdale Village , Exhibition Place  \n44                  Golden Mile , Clairlea , Oakridge  \n45                          York Mills , Silver Hills  \n46                                      DownsviewWest  \n47                    India Bazaar , The Beaches West  \n48                    Commerce Court , Victoria Hotel  \n49         North Park , Maple Leaf Park , Upwood Park  \n50                                      Humber Summit  ",
                        "text/html": "<div>\n<style scoped>\n    .dataframe tbody tr th:only-of-type {\n        vertical-align: middle;\n    }\n\n    .dataframe tbody tr th {\n        vertical-align: top;\n    }\n\n    .dataframe thead th {\n        text-align: right;\n    }\n</style>\n<table border=\"1\" class=\"dataframe\">\n  <thead>\n    <tr style=\"text-align: right;\">\n      <th></th>\n      <th>PostalCode</th>\n      <th>Borough</th>\n      <th>Neighborhood</th>\n    </tr>\n  </thead>\n  <tbody>\n    <tr>\n      <th>0</th>\n      <td>M3A</td>\n      <td>North York</td>\n      <td>Parkwoods</td>\n    </tr>\n    <tr>\n      <th>1</th>\n      <td>M4A</td>\n      <td>North York</td>\n      <td>Victoria Village</td>\n    </tr>\n    <tr>\n      <th>2</th>\n      <td>M5A</td>\n      <td>Downtown Toronto</td>\n      <td>Regent Park , Harbourfront</td>\n    </tr>\n    <tr>\n      <th>3</th>\n      <td>M6A</td>\n      <td>North York</td>\n      <td>Lawrence Manor , Lawrence Heights</td>\n    </tr>\n    <tr>\n      <th>4</th>\n      <td>M7A</td>\n      <td>Queen's Park</td>\n      <td>Ontario Provincial Government</td>\n    </tr>\n    <tr>\n      <th>5</th>\n      <td>M9A</td>\n      <td>Etobicoke</td>\n      <td>Islington Avenue</td>\n    </tr>\n    <tr>\n      <th>6</th>\n      <td>M1B</td>\n      <td>Scarborough</td>\n      <td>Malvern , Rouge</td>\n    </tr>\n    <tr>\n      <th>7</th>\n      <td>M3B</td>\n      <td>North York</td>\n      <td>Don MillsNorth</td>\n    </tr>\n    <tr>\n      <th>8</th>\n      <td>M4B</td>\n      <td>East York</td>\n      <td>Parkview Hill , Woodbine Gardens</td>\n    </tr>\n    <tr>\n      <th>9</th>\n      <td>M5B</td>\n      <td>Downtown Toronto</td>\n      <td>Garden District, Ryerson</td>\n    </tr>\n    <tr>\n      <th>10</th>\n      <td>M6B</td>\n      <td>North York</td>\n      <td>Glencairn</td>\n    </tr>\n    <tr>\n      <th>11</th>\n      <td>M9B</td>\n      <td>Etobicoke</td>\n      <td>West Deane Park , Princess Gardens , Martin Gr...</td>\n    </tr>\n    <tr>\n      <th>12</th>\n      <td>M1C</td>\n      <td>Scarborough</td>\n      <td>Rouge Hill , Port Union , Highland Creek</td>\n    </tr>\n    <tr>\n      <th>13</th>\n      <td>M3C</td>\n      <td>North York</td>\n      <td>Don MillsSouth(Flemingdon Park</td>\n    </tr>\n    <tr>\n      <th>14</th>\n      <td>M4C</td>\n      <td>East York</td>\n      <td>Woodbine Heights</td>\n    </tr>\n    <tr>\n      <th>15</th>\n      <td>M5C</td>\n      <td>Downtown Toronto</td>\n      <td>St. James Town</td>\n    </tr>\n    <tr>\n      <th>16</th>\n      <td>M6C</td>\n      <td>York</td>\n      <td>Humewood-Cedarvale</td>\n    </tr>\n    <tr>\n      <th>17</th>\n      <td>M9C</td>\n      <td>Etobicoke</td>\n      <td>Eringate , Bloordale Gardens , Old Burnhamthor...</td>\n    </tr>\n    <tr>\n      <th>18</th>\n      <td>M1E</td>\n      <td>Scarborough</td>\n      <td>Guildwood , Morningside , West Hill</td>\n    </tr>\n    <tr>\n      <th>19</th>\n      <td>M4E</td>\n      <td>East Toronto</td>\n      <td>The Beaches</td>\n    </tr>\n    <tr>\n      <th>20</th>\n      <td>M5E</td>\n      <td>Downtown Toronto</td>\n      <td>Berczy Park</td>\n    </tr>\n    <tr>\n      <th>21</th>\n      <td>M6E</td>\n      <td>York</td>\n      <td>Caledonia-Fairbanks</td>\n    </tr>\n    <tr>\n      <th>22</th>\n      <td>M1G</td>\n      <td>Scarborough</td>\n      <td>Woburn</td>\n    </tr>\n    <tr>\n      <th>23</th>\n      <td>M4G</td>\n      <td>East York</td>\n      <td>Leaside</td>\n    </tr>\n    <tr>\n      <th>24</th>\n      <td>M5G</td>\n      <td>Downtown Toronto</td>\n      <td>Central Bay Street</td>\n    </tr>\n    <tr>\n      <th>25</th>\n      <td>M6G</td>\n      <td>Downtown Toronto</td>\n      <td>Christie</td>\n    </tr>\n    <tr>\n      <th>26</th>\n      <td>M1H</td>\n      <td>Scarborough</td>\n      <td>Cedarbrae</td>\n    </tr>\n    <tr>\n      <th>27</th>\n      <td>M2H</td>\n      <td>North York</td>\n      <td>Hillcrest Village</td>\n    </tr>\n    <tr>\n      <th>28</th>\n      <td>M3H</td>\n      <td>North York</td>\n      <td>Bathurst Manor , Wilson Heights , Downsview North</td>\n    </tr>\n    <tr>\n      <th>29</th>\n      <td>M4H</td>\n      <td>East York</td>\n      <td>Thorncliffe Park</td>\n    </tr>\n    <tr>\n      <th>30</th>\n      <td>M5H</td>\n      <td>Downtown Toronto</td>\n      <td>Richmond , Adelaide , King</td>\n    </tr>\n    <tr>\n      <th>31</th>\n      <td>M6H</td>\n      <td>West Toronto</td>\n      <td>Dufferin , Dovercourt Village</td>\n    </tr>\n    <tr>\n      <th>32</th>\n      <td>M1J</td>\n      <td>Scarborough</td>\n      <td>Scarborough Village</td>\n    </tr>\n    <tr>\n      <th>33</th>\n      <td>M2J</td>\n      <td>North York</td>\n      <td>Fairview , Henry Farm , Oriole</td>\n    </tr>\n    <tr>\n      <th>34</th>\n      <td>M3J</td>\n      <td>North York</td>\n      <td>Northwood Park , York University</td>\n    </tr>\n    <tr>\n      <th>35</th>\n      <td>M4J</td>\n      <td>East YorkEast Toronto</td>\n      <td>The Danforth East</td>\n    </tr>\n    <tr>\n      <th>36</th>\n      <td>M5J</td>\n      <td>Downtown Toronto</td>\n      <td>Harbourfront East , Union Station , Toronto Is...</td>\n    </tr>\n    <tr>\n      <th>37</th>\n      <td>M6J</td>\n      <td>West Toronto</td>\n      <td>Little Portugal , Trinity</td>\n    </tr>\n    <tr>\n      <th>38</th>\n      <td>M1K</td>\n      <td>Scarborough</td>\n      <td>Kennedy Park , Ionview , East Birchmount Park</td>\n    </tr>\n    <tr>\n      <th>39</th>\n      <td>M2K</td>\n      <td>North York</td>\n      <td>Bayview Village</td>\n    </tr>\n    <tr>\n      <th>40</th>\n      <td>M3K</td>\n      <td>North York</td>\n      <td>DownsviewEast (CFB Toronto</td>\n    </tr>\n    <tr>\n      <th>41</th>\n      <td>M4K</td>\n      <td>East Toronto</td>\n      <td>The Danforth West , Riverdale</td>\n    </tr>\n    <tr>\n      <th>42</th>\n      <td>M5K</td>\n      <td>Downtown Toronto</td>\n      <td>Toronto Dominion Centre , Design Exchange</td>\n    </tr>\n    <tr>\n      <th>43</th>\n      <td>M6K</td>\n      <td>West Toronto</td>\n      <td>Brockton , Parkdale Village , Exhibition Place</td>\n    </tr>\n    <tr>\n      <th>44</th>\n      <td>M1L</td>\n      <td>Scarborough</td>\n      <td>Golden Mile , Clairlea , Oakridge</td>\n    </tr>\n    <tr>\n      <th>45</th>\n      <td>M2L</td>\n      <td>North York</td>\n      <td>York Mills , Silver Hills</td>\n    </tr>\n    <tr>\n      <th>46</th>\n      <td>M3L</td>\n      <td>North York</td>\n      <td>DownsviewWest</td>\n    </tr>\n    <tr>\n      <th>47</th>\n      <td>M4L</td>\n      <td>East Toronto</td>\n      <td>India Bazaar , The Beaches West</td>\n    </tr>\n    <tr>\n      <th>48</th>\n      <td>M5L</td>\n      <td>Downtown Toronto</td>\n      <td>Commerce Court , Victoria Hotel</td>\n    </tr>\n    <tr>\n      <th>49</th>\n      <td>M6L</td>\n      <td>North York</td>\n      <td>North Park , Maple Leaf Park , Upwood Park</td>\n    </tr>\n    <tr>\n      <th>50</th>\n      <td>M9L</td>\n      <td>North York</td>\n      <td>Humber Summit</td>\n    </tr>\n  </tbody>\n</table>\n</div>"
                    },
                    "metadata": {}
                }
            ]
        },
        {
            "metadata": {},
            "cell_type": "code",
            "source": "",
            "execution_count": null,
            "outputs": []
        }
    ],
    "metadata": {
        "kernelspec": {
            "name": "python3",
            "display_name": "Python 3.7",
            "language": "python"
        },
        "language_info": {
            "name": "python",
            "version": "3.7.10",
            "mimetype": "text/x-python",
            "codemirror_mode": {
                "name": "ipython",
                "version": 3
            },
            "pygments_lexer": "ipython3",
            "nbconvert_exporter": "python",
            "file_extension": ".py"
        }
    },
    "nbformat": 4,
    "nbformat_minor": 1
}